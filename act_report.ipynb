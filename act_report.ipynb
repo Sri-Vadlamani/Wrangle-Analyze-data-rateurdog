{
 "cells": [
  {
   "cell_type": "markdown",
   "metadata": {},
   "source": [
    "# <font color='green'>#WeRateDogs</font> <img src='Pics/download1.jpg' width=\"100\">\n",
    "\n",
    "<font color='blue'>The goal of this visualization is to communicate the insights produced from the data wrangling project. \n",
    "WeRateDogs is a twitter account that rates people's dogs along with humorous comments. The higher the rating the better the dog.</font>\n",
    "\n",
    "<font color='blue'>* Number of entries in cleaned data set are 1986 rows and 15 coulumns. </font>"
   ]
  },
  {
   "cell_type": "markdown",
   "metadata": {},
   "source": [
    "## <font color='red'>Tweet source</font>\n",
    "### <font color='green'>Contributors post mostly from their iphones.</font>\n",
    "<img src='Pics/Popular source.png' width=\"400\">"
   ]
  },
  {
   "cell_type": "markdown",
   "metadata": {},
   "source": [
    "## <font color='red'>Top stages</font>\n",
    "### <font color='green'>Puppers are the most lovable dogs among the community.</font>\n",
    "<img src='Pics/Popular DogStages.png' width=\"400\">"
   ]
  },
  {
   "cell_type": "markdown",
   "metadata": {},
   "source": [
    "## <font color='red'>Bumper breeds</font>\n",
    "### <font color='green'>Golden retrievers are the most represented breed. Following are labrador retriever, pembroke, chihuahua.....</font>\n",
    "<img src='Pics/Top breed.png' width=\"400\">"
   ]
  },
  {
   "cell_type": "markdown",
   "metadata": {},
   "source": [
    "## <font color='red'>Adorable dog names</font>\n",
    "### <font color='green'> Charlie, Oliver and Cooper are the most popular names.</font>\n",
    "<table><tr>\n",
    "<td><img src='Pics/download2.jpg' width=\"250\"><td> \n",
    "<td><img src='Pics/download3.jpg' width=\"250\"><td>\n",
    "<td><img src='Pics/download4.jpg' width=\"250\"><td>\n",
    "</tr></table>"
   ]
  },
  {
   "cell_type": "markdown",
   "metadata": {},
   "source": [
    "## <font color='red'>Tweeting trends</font>\n",
    "### <font color='green'>The results show that the tweeting rate declined over time. This could be because of various reasons like busy schedule of an individual or found another interesting source of social mediaor ...... </font>\n",
    "<img src='Pics/tweet_trend.png' width=\"400\">"
   ]
  },
  {
   "cell_type": "markdown",
   "metadata": {},
   "source": [
    "## <font color='red'>Retweet vs. Favorite count</font>\n",
    "### <font color='green'>There is a strong positive correlation between retweets and favorite count. It could be argued that more retweets reach a wider audience hence more favorites. </font>\n",
    "<img src='Pics/R&LRelationship.png' width=\"400\">"
   ]
  },
  {
   "cell_type": "markdown",
   "metadata": {},
   "source": [
    "## <font color='red'>Best Dog</font>\n",
    "### <font color='green'>The best dog is Bo, a standard poodle with a combined rating of 14, retweet count of 38,492 and favorite count of 90,204. </font>\n",
    "<img src='Pics/download5.jpg' width=\"400\">"
   ]
  }
 ],
 "metadata": {
  "kernelspec": {
   "display_name": "Python 3",
   "language": "python",
   "name": "python3"
  },
  "language_info": {
   "codemirror_mode": {
    "name": "ipython",
    "version": 3
   },
   "file_extension": ".py",
   "mimetype": "text/x-python",
   "name": "python",
   "nbconvert_exporter": "python",
   "pygments_lexer": "ipython3",
   "version": "3.6.8"
  }
 },
 "nbformat": 4,
 "nbformat_minor": 2
}

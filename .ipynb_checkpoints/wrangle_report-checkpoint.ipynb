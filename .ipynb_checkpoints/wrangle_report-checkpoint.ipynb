{
 "cells": [
  {
   "cell_type": "markdown",
   "metadata": {},
   "source": [
    " # Wrangle and Analyze Data Project Wrangle Report "
   ]
  },
  {
   "cell_type": "markdown",
   "metadata": {},
   "source": [
    "As part of Udacity’s Data Analyst Nanodegree, I worked on a Data Wrangling Project. The goal is to gather data from a differnet sources and formats (csv, tsv, json files for examples), assess its quality and tidiness both visually and programatically, then clean it. Finally showcased the wrangling efforts through analyses and visualizations.  \n",
    " \n",
    "The data come from Twitter user @dog_rates, also known as WeRateDogs. WeRateDogs is a Twitter account that rates people's dogs with a humorous comment about the dog. "
   ]
  },
  {
   "cell_type": "markdown",
   "metadata": {},
   "source": [
    "## Gather data"
   ]
  },
  {
   "cell_type": "markdown",
   "metadata": {},
   "source": [
    "Three different formats of data was gathered from twitter\n",
    "\n",
    "### Enhanced Twitter Archive\n",
    "\n",
    "The WeRateDogs Twitter archive contains basic tweet data for all 5000+ of their tweets. Of the 5000+ tweets, a 2356 row of data was provided which was filtered for tweets with ratings only (there are 2356). \n",
    "\n",
    "*twitter_archive_enhanced.csv* \n",
    "\n",
    "###  Additional Data via the Twitter API\n",
    "\n",
    "Each tweet's retweet count and favorite (\"like\") count at minimum was gathered by querying the Twitter API for each tweet's JSON data using Python's Tweepy library and store each tweet's entire set of JSON data in a file\n",
    "\n",
    "*tweet_json.txt*\n",
    "\n",
    "### Image Predictions File\n",
    "\n",
    "The tweet image predictions, i.e., what breed of dog (or other object, animal, etc.) is present in each tweet according to a neural network. This file is hosted on Udacity's servers and was downloaded programmatically using the Requests library and the following URL: https://d17h27t6h515a5.cloudfront.net/topher/2017/August/599fd2ad_image-predictions/image-predictions.tsv\n",
    "\n",
    "*image_predictions.tsv* "
   ]
  },
  {
   "cell_type": "markdown",
   "metadata": {},
   "source": [
    "## Assessing Data"
   ]
  },
  {
   "cell_type": "markdown",
   "metadata": {},
   "source": [
    "This step allows us to identify quality and tidiness issues. \n",
    "\n",
    "**Low-quality data** are considered as **dirty data** and have *content issues*. \n",
    "**Untidy data** are considered as **messy data** and have *structural issues*. \n",
    "\n",
    "#### Types of assessment\n",
    "* Visual assessment\n",
    "* Programmatic assessment\n",
    "\n",
    "Here’s a list of the issues that have been highlighted: \n",
    " \n",
    "#### Quality Issues:\n",
    "\n",
    "- Tweet_id, timestamp, sources, img_num and dog_stages need to be converted into the right datatype\n",
    "- Sources to be clearly defined such as Twitter for iPhone, Twitter Web Client, TweetDeck\n",
    "- Dog name is not always accurate: 'a', 'actually', 'all', 'by', 'getting' etc\n",
    "- Replace missing values in the dog stages column as 'None'\n",
    "- Deleting the retweets\n",
    "- Create the rating column with numerator/denominator and drop separate num and denom coulumns.\n",
    "- Delete tweets that don't include images\n",
    "- First letter of some breeds is uppercase change to lowercase.\n",
    "\n",
    "#### Tidiness Issues:\n",
    "- Merging the three dataframes into one using tweet_id with a (inner) join condition\n",
    "- Joining the dog stages into a single column instead of four\n",
    "- Unnecessary columns to be deleted."
   ]
  },
  {
   "cell_type": "markdown",
   "metadata": {},
   "source": [
    "## Cleaning Data"
   ]
  },
  {
   "cell_type": "markdown",
   "metadata": {},
   "source": [
    "I converted each assessment observations into action items. Each item was defined, coded, and tested to ensure the problem was fixed. I first addressed missing data, then structural issues, then quality issues."
   ]
  },
  {
   "cell_type": "markdown",
   "metadata": {},
   "source": [
    "## Analyzing and Visualizing Data"
   ]
  },
  {
   "cell_type": "markdown",
   "metadata": {},
   "source": [
    "I analyzed the information in the clean, combined dataframe and created initial visuals using Matplotlib in Python."
   ]
  },
  {
   "cell_type": "markdown",
   "metadata": {},
   "source": [
    "## Conclusion"
   ]
  },
  {
   "cell_type": "markdown",
   "metadata": {},
   "source": [
    "Through the data wrangling and analysis, many libraries like pandas, NumPy, requests, tweepy, and json have been used.\n",
    "Finally, the following documents have been put together: \n",
    "\n",
    "* wrangle_act.ipynb \n",
    "* wrangle_report.pdf\n",
    "* act_report.pdf\n",
    "* twitter_archive_enhanced.csv\n",
    "* image_predictions.tsv\n",
    "* tweet_json.txt\n",
    "* twitter_archive_master.csv\n",
    " \n",
    " "
   ]
  },
  {
   "cell_type": "markdown",
   "metadata": {},
   "source": [
    "## Resources"
   ]
  },
  {
   "cell_type": "markdown",
   "metadata": {},
   "source": [
    "* https://stackoverflow.com/questions/23668427/pandas-three-way-joining-multiple-dataframes-on-columns\n",
    "* https://docs.python.org/3/library/re.html#re-objects\n",
    "* https://stackoverflow.com/questions/28384588/twitter-api-get-tweets-with-specific-id \n",
    "* https://stackoverflow.com/questions/8784396/python-delete-the-words-between-two-delimiters "
   ]
  }
 ],
 "metadata": {
  "kernelspec": {
   "display_name": "Python 3",
   "language": "python",
   "name": "python3"
  },
  "language_info": {
   "codemirror_mode": {
    "name": "ipython",
    "version": 3
   },
   "file_extension": ".py",
   "mimetype": "text/x-python",
   "name": "python",
   "nbconvert_exporter": "python",
   "pygments_lexer": "ipython3",
   "version": "3.6.8"
  }
 },
 "nbformat": 4,
 "nbformat_minor": 2
}
